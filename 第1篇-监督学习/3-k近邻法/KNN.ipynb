{
 "cells": [
  {
   "cell_type": "code",
   "execution_count": 1,
   "metadata": {
    "scrolled": true
   },
   "outputs": [],
   "source": [
    "import numpy as np\n",
    "import pandas as pd\n",
    "\n",
    "from sklearn.model_selection import train_test_split\n",
    "#    导入sklearn自带的数据集\n",
    "from sklearn.datasets import load_iris\n",
    "#    导入二叉树\n",
    "#from binarytree import Node"
   ]
  },
  {
   "cell_type": "code",
   "execution_count": 2,
   "metadata": {},
   "outputs": [],
   "source": [
    "iris = load_iris()\n",
    "X = iris.data\n",
    "y = iris.target\n",
    "#    分割为训练集、测试集\n",
    "X_train,X_test, y_train, y_test = train_test_split(X,y,test_size=0.4, random_state=5)\n",
    "#    数据标准化\n",
    "X_train = (X_train - X_train.mean())/X_train.std()\n",
    "X_test = (X_test - X_test.mean())/X_test.std()"
   ]
  },
  {
   "cell_type": "markdown",
   "metadata": {},
   "source": [
    "构造平衡kd树"
   ]
  },
  {
   "cell_type": "code",
   "execution_count": 3,
   "metadata": {},
   "outputs": [],
   "source": [
    "#    kd树\n",
    "kd_tree = []\n",
    "k = X.shape[1]\n",
    "\n",
    "#    树节点\n",
    "class Node:\n",
    "    '''\n",
    "    定义树节点结构\n",
    "    '''\n",
    "    def __init__(self, value=None, left=None, right=None, parent=None, axis=None, label=None):\n",
    "        self.value = value\n",
    "        self.left = left\n",
    "        self.right = right\n",
    "        self.parent = parent\n",
    "        self.axis = axis\n",
    "        self.label = label\n",
    "\n",
    "\n",
    "def and_kd_tree(node, depth):\n",
    "    '''\n",
    "    构造kd树\n",
    "    node: 当前节点\n",
    "    depth: 当前节点深度\n",
    "    parent：当前节点的父节点\n",
    "    '''\n",
    "    #print(node.value)\n",
    "    if node == None:\n",
    "        return None\n",
    "    #    选择要划分的轴\n",
    "    l = depth%k \n",
    "    #    第l列的中位数\n",
    "    data_cs = node.value[node.value[:, l].argsort()]\n",
    "    median = data_cs[data_cs.shape[0]>>1, l]\n",
    "    #    左子节点\n",
    "    node_left = []\n",
    "    #    右子节点\n",
    "    node_right = []\n",
    "    cnt = 1\n",
    "    node_value = None\n",
    "    for i in range(node.value.shape[0]):\n",
    "        if node.value[i,l] == median and cnt:\n",
    "            node_value = node.value[i]       \n",
    "            cnt = 0\n",
    "        #    若大于中位数，则扩充至右子节点\n",
    "        elif node.value[i,l] >= median:\n",
    "            node_right.append(node.value[i])\n",
    "        #    若小于中位数，则扩充至左子节点\n",
    "        else:\n",
    "            node_left.append(node.value[i])       \n",
    "    \n",
    "    #    转为数组形式\n",
    "    node_right = np.array(node_right)\n",
    "    node_left = np.array(node_left)\n",
    "    #    构造节点\n",
    "    node.value = node_value[0:-1]\n",
    "    \n",
    "    node.axis = l\n",
    "    node.label = node_value[-1]\n",
    "    if len(node_right) != 0:\n",
    "        node.right = Node(node_right, parent=node)\n",
    "    #else:\n",
    "    #    node.right = None\n",
    "    if len(node_left) != 0:\n",
    "        node.left = Node(node_left, parent=node)\n",
    "    #else:\n",
    "    #    node.left = None\n",
    "    #    递归\n",
    "    and_kd_tree(node.right, depth+1)\n",
    "    and_kd_tree(node.left, depth+1)\n",
    "    \n",
    "#    前序遍历测试   \n",
    "def pres(node):\n",
    "    \n",
    "    if node is None:\n",
    "        return\n",
    "    print(node.parent)\n",
    "    pres(node.left)\n",
    "    pres(node.right)\n",
    "    \n"
   ]
  },
  {
   "cell_type": "code",
   "execution_count": 4,
   "metadata": {},
   "outputs": [],
   "source": [
    "#    将feature和label合并 构造树节点\n",
    "data_train = np.column_stack((X_train,y_train))\n",
    "\n",
    "#    根节点\n",
    "root = Node(data_train)\n",
    "#    深度\n",
    "depth = 0\n",
    "#    构造kd树\n",
    "and_kd_tree(root,depth)"
   ]
  },
  {
   "cell_type": "markdown",
   "metadata": {},
   "source": [
    "搜索kd树"
   ]
  },
  {
   "cell_type": "code",
   "execution_count": 5,
   "metadata": {},
   "outputs": [
    {
     "name": "stdout",
     "output_type": "stream",
     "text": [
      "[ 1.20308351 -0.38424426  0.2302052  -1.15230609]\n"
     ]
    },
    {
     "data": {
      "text/plain": [
       "array([ 1.17032169, -0.38936186,  0.31501136, -1.2446722 ])"
      ]
     },
     "execution_count": 5,
     "metadata": {},
     "output_type": "execute_result"
    }
   ],
   "source": [
    "#    深度\n",
    "depth = 0\n",
    "def curr_near_node(x, node):\n",
    "    '''\n",
    "    递归求当前最邻近点（叶节点），实现算法3.3中的(1),(2)\n",
    "    x: 目标点\n",
    "    depth：当前节点的深度\n",
    "    node: 当前节点\n",
    "    '''\n",
    "    near_node = node\n",
    "    #l = depth%k \n",
    "    #depth += 1\n",
    "    #print(node.value)\n",
    "    #    划分的轴\n",
    "    l = node.axis\n",
    "    if x[l] >= node.value[l]:\n",
    "        if node.right is not None:\n",
    "            near_node = curr_near_node(x, node.right)\n",
    "        elif node.left is not None:\n",
    "            near_node = curr_near_node(x, node.left)\n",
    "        else:\n",
    "            near_node = node\n",
    "    else:\n",
    "        if node.left is not None:\n",
    "            near_node = curr_near_node(x, node.left)\n",
    "        elif node.right is not None:\n",
    "            near_node = curr_near_node(x, node.right)\n",
    "        else:\n",
    "            near_node = node\n",
    "    return near_node\n",
    "\n",
    "#    测试\n",
    "x = X_test[0]\n",
    "print(x)\n",
    "node = curr_near_node(x, root)\n",
    "node.value"
   ]
  },
  {
   "cell_type": "code",
   "execution_count": 6,
   "metadata": {},
   "outputs": [],
   "source": [
    "def euc_dist(xi,xj):\n",
    "    '''\n",
    "    距离度量（Euclidean distance）：欧氏距离\n",
    "    '''\n",
    "    dist = 0\n",
    "    for i in range(len(xi)):\n",
    "        dist += (xi[i] - xj[i])**2\n",
    "    return dist**0.5"
   ]
  },
  {
   "cell_type": "code",
   "execution_count": 7,
   "metadata": {},
   "outputs": [
    {
     "name": "stdout",
     "output_type": "stream",
     "text": [
      "0.12970392786999457\n"
     ]
    }
   ],
   "source": [
    "print(euc_dist(x,node.value))"
   ]
  },
  {
   "cell_type": "code",
   "execution_count": 8,
   "metadata": {},
   "outputs": [],
   "source": [
    "def call_back_root(x, node_xn, node, access_node, root):\n",
    "    '''\n",
    "    递归回退到根节点,实现算法3.3中的(3)\n",
    "    x: 目标节点的值\n",
    "    node_xn: 当前最近节点\n",
    "    node: 当前节点\n",
    "    access_node: 已访问过的节点\n",
    "    root: 根节点，回退结束的标志\n",
    "    '''\n",
    "    if node.parent is None:\n",
    "        #print(xn)\n",
    "        return node_xn\n",
    "    #    最近节点\n",
    "    #    实现(3)(a)\n",
    "    if euc_dist(x, node_xn.value) >= euc_dist(x, node.value):\n",
    "        \n",
    "        node_xn = node\n",
    "    #    表示已访问过\n",
    "    access_node.append(node)\n",
    "    #    划分的轴\n",
    "    l = node.axis\n",
    "    another_node = None\n",
    "    if node.parent.left == node:\n",
    "        #    则另一个结点是右节点\n",
    "        another_node = node.parent.right\n",
    "    else:\n",
    "        #    则另一个节点是左节点\n",
    "        another_node = node.parent.left\n",
    "    if another_node is not None and another_node not in access_node:\n",
    "        if abs(another_node.value[l] - x[l]) > euc_dist(x, node_xn.value):\n",
    "            #    则相交，表明该节点区域有可能存在最邻近节点，\n",
    "            #    递归进行最近邻搜索\n",
    "            n_node = curr_near_node(x, another_node)\n",
    "            node_xn = call_back_root(x, node_xn, n_node, access_node, root)\n",
    "    #print(another_node)\n",
    "    node_xn = call_back_root(x, node_xn, node.parent, access_node, root)\n",
    "    \n",
    "    return node_xn"
   ]
  },
  {
   "cell_type": "markdown",
   "metadata": {},
   "source": [
    "判断超球体与分类矩形超平面是否相交的方法为：待分类点（目标点）与分类超矩形平面的距离（即在当前分类变量上，待分类点与父结点在上取值的差值的绝对值）是否大于超球体半径"
   ]
  },
  {
   "cell_type": "code",
   "execution_count": 9,
   "metadata": {},
   "outputs": [
    {
     "data": {
      "text/plain": [
       "(array([ 1.17032169, -0.38936186,  0.31501136, -1.2446722 ]),\n",
       " 0.12970392786999457)"
      ]
     },
     "execution_count": 9,
     "metadata": {},
     "output_type": "execute_result"
    }
   ],
   "source": [
    "access_node = []\n",
    "near_xn = None\n",
    "near_nx = call_back_root(x, node, node, access_node, root)\n",
    "\n",
    "near_nx.value, euc_dist(near_nx.value, x)"
   ]
  },
  {
   "cell_type": "code",
   "execution_count": null,
   "metadata": {},
   "outputs": [],
   "source": []
  },
  {
   "cell_type": "code",
   "execution_count": 10,
   "metadata": {},
   "outputs": [
    {
     "data": {
      "text/plain": [
       "0.9666666666666667"
      ]
     },
     "execution_count": 10,
     "metadata": {},
     "output_type": "execute_result"
    }
   ],
   "source": [
    "\n",
    "predict = []\n",
    "for i in range(len(X_test)):\n",
    "    \n",
    "    x = X_test[i]\n",
    "    #    当前最近点 叶节点\n",
    "    node = curr_near_node(x, root)\n",
    "    \n",
    "    access_node = []\n",
    "    near_xn = None\n",
    "    #    回退到根节点 并求得最近邻\n",
    "    near_nx = call_back_root(x, node, node, access_node, root)\n",
    "    predict.append(near_nx.label)\n",
    "    #print(near_nx.label)\n",
    "\n",
    "correct = [1 if i==j else 0 for (i,j) in zip(predict, list(y_test))]\n",
    "correct.count(1)/len(correct)"
   ]
  },
  {
   "cell_type": "code",
   "execution_count": null,
   "metadata": {},
   "outputs": [],
   "source": []
  },
  {
   "cell_type": "code",
   "execution_count": null,
   "metadata": {},
   "outputs": [],
   "source": []
  },
  {
   "cell_type": "code",
   "execution_count": null,
   "metadata": {},
   "outputs": [],
   "source": []
  }
 ],
 "metadata": {
  "kernelspec": {
   "display_name": "Python [conda env:ML_DataContest]",
   "language": "python",
   "name": "conda-env-ML_DataContest-py"
  },
  "language_info": {
   "codemirror_mode": {
    "name": "ipython",
    "version": 3
   },
   "file_extension": ".py",
   "mimetype": "text/x-python",
   "name": "python",
   "nbconvert_exporter": "python",
   "pygments_lexer": "ipython3",
   "version": "3.6.9"
  }
 },
 "nbformat": 4,
 "nbformat_minor": 2
}
