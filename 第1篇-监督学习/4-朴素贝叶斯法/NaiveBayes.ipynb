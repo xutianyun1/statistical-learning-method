{
 "cells": [
  {
   "cell_type": "code",
   "execution_count": 1,
   "metadata": {},
   "outputs": [],
   "source": [
    "import numpy as np\n",
    "import pandas as pd\n",
    "\n",
    "from sklearn.model_selection import train_test_split\n",
    "#    导入sklearn自带的数据集\n",
    "from sklearn.datasets import load_iris\n",
    "#    导入数学函数库\n",
    "import math"
   ]
  },
  {
   "cell_type": "code",
   "execution_count": 2,
   "metadata": {},
   "outputs": [],
   "source": [
    "iris = load_iris()\n",
    "X = iris.data\n",
    "y = iris.target"
   ]
  },
  {
   "cell_type": "markdown",
   "metadata": {},
   "source": [
    "该数据集是**连续的特征向量**，我们可以假设每一个特征都符合**高斯分布**，通过高斯分布的概率密度求出条件概率密度"
   ]
  },
  {
   "cell_type": "code",
   "execution_count": 3,
   "metadata": {},
   "outputs": [],
   "source": [
    "#    分割为训练集、测试集\n",
    "X_train,X_test, y_train, y_test = train_test_split(X,y,test_size=0.4, random_state=5)"
   ]
  },
  {
   "cell_type": "code",
   "execution_count": 4,
   "metadata": {},
   "outputs": [
    {
     "data": {
      "text/plain": [
       "{0: 0.3333333333333333, 1: 0.32222222222222224, 2: 0.34444444444444444}"
      ]
     },
     "execution_count": 4,
     "metadata": {},
     "output_type": "execute_result"
    }
   ],
   "source": [
    "from collections import Counter\n",
    "ck = set(y_train)\n",
    "#    先验概率\n",
    "prior_probability = {}\n",
    "for n in ck:\n",
    "    prior_probability[n] = Counter(y_train)[n]/len(y_train)\n",
    "prior_probability"
   ]
  },
  {
   "cell_type": "code",
   "execution_count": 5,
   "metadata": {},
   "outputs": [],
   "source": [
    "def gaussian(l, n, ck, X_train, y_train):\n",
    "    '''\n",
    "    高斯分布\n",
    "    l: 第l个属性\n",
    "    n: 测试集的某个特征\n",
    "    ck: label\n",
    "    X: 训练集特征\n",
    "    '''\n",
    "    #    转为DataFrame\n",
    "    data = pd.DataFrame(X_train)\n",
    "    data['label'] = y_train\n",
    "    #    只计算ck类别的均值和方差\n",
    "    ck_data = data[data['label'] == ck]\n",
    "    #    均值\n",
    "    mean = ck_data.mean()\n",
    "    #    方差\n",
    "    std = ck_data.std()\n",
    "    #    高斯分布函数 把此作为条件概率返回\n",
    "    return (math.e**(-(((n-mean[l])**2)/std[l])))/((2*math.pi*std[l])**0.5)\n"
   ]
  },
  {
   "cell_type": "code",
   "execution_count": 6,
   "metadata": {},
   "outputs": [],
   "source": [
    "def naive_bayes(X_train, y_train, X_test):\n",
    "    '''\n",
    "    朴素贝叶斯算法 贝叶斯估计\n",
    "    X_train: 训练集的特征向量\n",
    "    y_train: 训练集的标签\n",
    "    X_test:  测试集的特征向量\n",
    "    '''\n",
    "    #    先验概率\n",
    "    ck = set(y_train)\n",
    "    prior_probability = {}\n",
    "    for n in ck:\n",
    "        prior_probability[n] = Counter(y_train)[n]/len(y_train)\n",
    "    #    存放预测的标签值   \n",
    "    predict = []\n",
    "    #    对一个特征向量进行朴素贝叶斯\n",
    "    for i in range(X_test.shape[0]):\n",
    "        post_prob_all = {}\n",
    "        #    对每个标签进行后验概率的计算\n",
    "        for n in ck:\n",
    "            post_prob = prior_probability[n]\n",
    "            for j in range(X_test.shape[1]):\n",
    "                \n",
    "                post_prob *= gaussian(j, X_test[i,j], n, X_train, y_train)\n",
    "            post_prob_all[n] = post_prob\n",
    "        \n",
    "        #    从所有的后验概率中选出最大后验概率标签作为预测标签\n",
    "        predict_i = None\n",
    "        max_prob = -1\n",
    "        for key in post_prob_all:\n",
    "            if post_prob_all[key] > max_prob:\n",
    "                predict_i = key\n",
    "                max_prob = post_prob_all[key]\n",
    "                \n",
    "        predict.append(predict_i)\n",
    "    return predict\n",
    "\n"
   ]
  },
  {
   "cell_type": "code",
   "execution_count": 7,
   "metadata": {},
   "outputs": [
    {
     "data": {
      "text/plain": [
       "0.9666666666666667"
      ]
     },
     "execution_count": 7,
     "metadata": {},
     "output_type": "execute_result"
    }
   ],
   "source": [
    "#    预测\n",
    "predict = naive_bayes(X_train, y_train, X_test)\n",
    "\n",
    "correct = [1 if i==j else 0 for (i,j) in zip(y_test,predict)]\n",
    "#    正确率\n",
    "correct.count(1)/len(correct)"
   ]
  },
  {
   "cell_type": "code",
   "execution_count": null,
   "metadata": {},
   "outputs": [],
   "source": []
  },
  {
   "cell_type": "code",
   "execution_count": null,
   "metadata": {},
   "outputs": [],
   "source": []
  },
  {
   "cell_type": "code",
   "execution_count": null,
   "metadata": {},
   "outputs": [],
   "source": []
  },
  {
   "cell_type": "code",
   "execution_count": null,
   "metadata": {},
   "outputs": [],
   "source": []
  },
  {
   "cell_type": "code",
   "execution_count": null,
   "metadata": {},
   "outputs": [],
   "source": []
  }
 ],
 "metadata": {
  "kernelspec": {
   "display_name": "Python 3",
   "language": "python",
   "name": "python3"
  },
  "language_info": {
   "codemirror_mode": {
    "name": "ipython",
    "version": 3
   },
   "file_extension": ".py",
   "mimetype": "text/x-python",
   "name": "python",
   "nbconvert_exporter": "python",
   "pygments_lexer": "ipython3",
   "version": "3.7.3"
  }
 },
 "nbformat": 4,
 "nbformat_minor": 2
}
