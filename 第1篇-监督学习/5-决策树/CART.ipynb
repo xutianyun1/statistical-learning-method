{
 "cells": [
  {
   "cell_type": "code",
   "execution_count": 1,
   "metadata": {},
   "outputs": [],
   "source": [
    "import numpy as np\n",
    "import pandas as pd\n",
    "\n",
    "from sklearn.model_selection import train_test_split"
   ]
  },
  {
   "cell_type": "markdown",
   "metadata": {},
   "source": [
    "### 分类树\n"
   ]
  },
  {
   "cell_type": "code",
   "execution_count": 2,
   "metadata": {},
   "outputs": [],
   "source": [
    "#    导入sklearn自带的数据集\n",
    "from sklearn.datasets import load_iris"
   ]
  },
  {
   "cell_type": "code",
   "execution_count": 3,
   "metadata": {},
   "outputs": [],
   "source": [
    "iris = load_iris()\n",
    "X = iris.data\n",
    "y = iris.target\n",
    "#    分割为训练集、测试集\n",
    "X_train, X_test, y_train, y_test = train_test_split(X, y, test_size=0.4, random_state=5)\n",
    "X_test, X_cv, y_test, y_cv = train_test_split(X_test, y_test, test_size=0.5, random_state=1)"
   ]
  },
  {
   "cell_type": "markdown",
   "metadata": {},
   "source": [
    "Gini(D)表示集合D的不确定性"
   ]
  },
  {
   "cell_type": "code",
   "execution_count": 4,
   "metadata": {},
   "outputs": [],
   "source": [
    "def giniD(D):\n",
    "    '''\n",
    "    集合D的基尼指数\n",
    "    D: 样本集合\n",
    "    return: 基尼指数\n",
    "    '''\n",
    "    #    该样本集合的分类的列表\n",
    "    K = list(set(D[:,-1]))\n",
    "    gini = 1\n",
    "    for n in K:\n",
    "        #    Ck是D中属于第k类的样本子集\n",
    "        Ck = D[D[:,-1]==n]\n",
    "        gini -= (Ck.shape[0]/D.shape[0])**2\n",
    "    return gini"
   ]
  },
  {
   "cell_type": "markdown",
   "metadata": {},
   "source": [
    "Gini(D,A)表示经A=a分割后集合D的不确定性"
   ]
  },
  {
   "cell_type": "code",
   "execution_count": 5,
   "metadata": {},
   "outputs": [],
   "source": [
    "#    在特征A的条件下，集合D的基尼指数\n",
    "def giniDA(D):\n",
    "    '''\n",
    "    在特征A的条件下，集合D的基尼指数\n",
    "    D: 样本集合（训练数据集）-numpy\n",
    "    '''\n",
    "\n",
    "    min_giniDA = 1\n",
    "    #    j: 最优特征\n",
    "    #    s: 最优特征的切分变量\n",
    "    j = s = 0\n",
    "    for i in range(D.shape[1]-1):\n",
    "        #    特征所有可能的取值\n",
    "        a = list(set(D[:,i]))\n",
    "        for n in a:\n",
    "            D1 = D[D[:,i]==n]\n",
    "            D2 = D[D[:,i]!=n]\n",
    "            giniDA = (D1.shape[0]/D.shape[0])*giniD(D1) + (D2.shape[0]/D.shape[0])*giniD(D2)\n",
    "            #print(min_giniDA)\n",
    "            if giniDA < min_giniDA:\n",
    "                min_giniDA = giniDA\n",
    "                j = i\n",
    "                s = n\n",
    "            \n",
    "    return j, s\n",
    "\n",
    "\n",
    "\n",
    "    "
   ]
  },
  {
   "cell_type": "markdown",
   "metadata": {},
   "source": [
    "生成决策树\n"
   ]
  },
  {
   "cell_type": "code",
   "execution_count": 6,
   "metadata": {},
   "outputs": [],
   "source": [
    "class Node():\n",
    "    '''\n",
    "    二叉树节点\n",
    "    '''\n",
    "    def __init__(self, val=None, left=None, right=None, j=None, s=None):\n",
    "        self.val = val\n",
    "        self.left = left\n",
    "        self.right = right\n",
    "        self.j = j\n",
    "        self.s = s"
   ]
  },
  {
   "cell_type": "code",
   "execution_count": 7,
   "metadata": {},
   "outputs": [],
   "source": [
    "def select_Ck(D):\n",
    "    '''\n",
    "    多数表决，对叶节点进行选择类别\n",
    "    '''\n",
    "    label = list(D[:,-1])\n",
    "    max_Ck = 0\n",
    "    Ck = 1\n",
    "    for n in set(label):\n",
    "        if label.count(n) > max_Ck:\n",
    "            max_Ck = label.count(n)\n",
    "            Ck = n\n",
    "    return Ck"
   ]
  },
  {
   "cell_type": "code",
   "execution_count": 8,
   "metadata": {},
   "outputs": [],
   "source": [
    "def produce_cart(node):\n",
    "    '''\n",
    "    CART生成\n",
    "    '''\n",
    "    #    如果该节点的样本数小于等于5，则当作子节点\n",
    "    if node.val.shape[0] <= 5:\n",
    "        node.val = select_Ck(node.val)\n",
    "        return None\n",
    "    #    求基尼指数最小的最优特征和最优特征的最优切分变量\n",
    "    j, s = giniDA(node.val)\n",
    "    right_list, left_list = [], []\n",
    "    #    根据最优特征和最优切分变量进行划分，左“是”右“否”原则\n",
    "    for i in range(node.val.shape[0]):\n",
    "        if node.val[i,j] != s:\n",
    "            right_list.append(node.val[i,:])\n",
    "        else:\n",
    "            left_list.append(node.val[i,:])\n",
    "    #    构造左右子节点\n",
    "    right_node = Node(np.array(right_list))\n",
    "    left_node = Node(np.array(left_list))\n",
    "    node.right = right_node\n",
    "    node.left = left_node\n",
    "    node.j = j\n",
    "    node.s = s\n",
    "    #    递归\n",
    "    produce_cart(right_node)\n",
    "    produce_cart(left_node)\n",
    "    #if(produce_cart(right_node) is None):\n",
    "    #    #    如果是子节点 则多数表决选择子节点的label\n",
    "    #    right_node.val = select_Ck(right_node.val)\n",
    "    #if(produce_cart(left_node) is None):\n",
    "    #    left_node.val = select_Ck(left_node.val)\n",
    "    "
   ]
  },
  {
   "cell_type": "code",
   "execution_count": 9,
   "metadata": {},
   "outputs": [],
   "source": [
    "\n",
    "#    添加一列,将fature和label合并\n",
    "train_data = np.column_stack((X_train, y_train))\n",
    "D = train_data\n",
    "\n",
    "root = Node(D)\n",
    "produce_cart(root)"
   ]
  },
  {
   "cell_type": "markdown",
   "metadata": {},
   "source": [
    "对未剪枝的分类树进行预测"
   ]
  },
  {
   "cell_type": "code",
   "execution_count": 10,
   "metadata": {},
   "outputs": [
    {
     "name": "stdout",
     "output_type": "stream",
     "text": [
      "根据未剪枝的决策树进行预测的精确度:  0.8666666666666667\n"
     ]
    }
   ],
   "source": [
    "#    对未剪枝的CART预测\n",
    "predict = []\n",
    "\n",
    "def CART_predict(x, node):\n",
    "    '''\n",
    "    根据CART预测\n",
    "    x: 被预测的数据\n",
    "    node: 节点\n",
    "    '''\n",
    "    #    遍历到子节点后返回子节点的label\n",
    "    if node.right is None and node.left is None:\n",
    "        return node.val\n",
    "    \n",
    "    if x[node.j] == node.s:\n",
    "        return CART_predict(x, node.left)\n",
    "    else:\n",
    "        return CART_predict(x, node.right)\n",
    "        \n",
    "#    对每一个数据进行预测\n",
    "for n in X_cv:\n",
    "    predict.append(CART_predict(n, root))\n",
    "\n",
    "correct = [1 if i==j else 0 for (i, j) in zip(predict, y_cv)]\n",
    "correct_rate = correct.count(1)/len(correct)\n",
    "print('根据未剪枝的决策树进行预测的精确度: ',correct_rate)"
   ]
  },
  {
   "cell_type": "markdown",
   "metadata": {},
   "source": [
    "对分类树进行剪枝"
   ]
  },
  {
   "cell_type": "code",
   "execution_count": null,
   "metadata": {},
   "outputs": [],
   "source": [
    "太难了\n"
   ]
  }
 ],
 "metadata": {
  "kernelspec": {
   "display_name": "Python [conda env:ML_DataContest]",
   "language": "python",
   "name": "conda-env-ML_DataContest-py"
  },
  "language_info": {
   "codemirror_mode": {
    "name": "ipython",
    "version": 3
   },
   "file_extension": ".py",
   "mimetype": "text/x-python",
   "name": "python",
   "nbconvert_exporter": "python",
   "pygments_lexer": "ipython3",
   "version": "3.6.9"
  }
 },
 "nbformat": 4,
 "nbformat_minor": 2
}
