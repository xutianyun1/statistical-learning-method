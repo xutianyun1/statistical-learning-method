{
 "cells": [
  {
   "cell_type": "markdown",
   "metadata": {},
   "source": [
    "### 二项逻辑斯蒂回归模型"
   ]
  },
  {
   "cell_type": "code",
   "execution_count": 1,
   "metadata": {},
   "outputs": [],
   "source": [
    "import numpy as np\n",
    "import pandas as pd\n",
    "\n",
    "from sklearn.model_selection import train_test_split\n",
    "#    导入sklearn自带数据集\n",
    "from sklearn.datasets import load_iris\n"
   ]
  },
  {
   "cell_type": "code",
   "execution_count": 2,
   "metadata": {},
   "outputs": [],
   "source": [
    "iris = load_iris()\n",
    "#    转为DataFrame\n",
    "irisData = pd.DataFrame(iris.data, columns=iris.feature_names)\n",
    "irisData['Label'] = iris.target\n",
    "\n",
    "#    只用两个分类，因此将Label=2的删除\n",
    "irisData = irisData[irisData['Label'] < 2]"
   ]
  },
  {
   "cell_type": "code",
   "execution_count": 3,
   "metadata": {},
   "outputs": [],
   "source": [
    "#    将数据转为矩阵形式，并区分feature和label\n",
    "X = np.array(irisData.iloc[:,:-1])\n",
    "y = np.array(irisData['Label'])\n",
    "\n",
    "X_train,X_test, y_train, y_test = train_test_split(X,y,test_size=0.4, random_state=5)\n",
    "\n",
    "ones = np.ones(X_train.shape[0])\n",
    "X_train = np.column_stack((X_train, ones))\n",
    "ones = np.ones(X_test.shape[0])\n",
    "X_test = np.column_stack((X_test, ones))"
   ]
  },
  {
   "cell_type": "code",
   "execution_count": 4,
   "metadata": {},
   "outputs": [
    {
     "data": {
      "text/plain": [
       "(array([[0., 0., 0., 0.]]), 0)"
      ]
     },
     "execution_count": 4,
     "metadata": {},
     "output_type": "execute_result"
    }
   ],
   "source": [
    "#    初始化参数\n",
    "b = 0\n",
    "omiga = np.zeros((1,X.shape[1]))\n",
    "omiga, b"
   ]
  },
  {
   "cell_type": "code",
   "execution_count": 5,
   "metadata": {},
   "outputs": [
    {
     "data": {
      "text/plain": [
       "array([0., 0., 0., 0., 0.])"
      ]
     },
     "execution_count": 5,
     "metadata": {},
     "output_type": "execute_result"
    }
   ],
   "source": [
    "#    合并omiga和b赋值新的omiga，同时也要对x合并1赋值新的x\n",
    "omiga = np.append(omiga, b)\n",
    "omiga"
   ]
  },
  {
   "cell_type": "code",
   "execution_count": 6,
   "metadata": {},
   "outputs": [],
   "source": [
    "\n",
    "#    定义二项逻辑斯蒂回归模型\n",
    "def y_is_1(omiga, x):\n",
    "    '''\n",
    "    P(Y=1|x)的概率\n",
    "    '''\n",
    "    theta = np.exp(omiga.dot(x))\n",
    "    return theta/(1+theta)\n",
    "\n",
    "def y_is_0(omiga, x):\n",
    "    '''\n",
    "    P(Y=0|x)的概率\n",
    "    '''\n",
    "    theta = np.exp(omiga.dot(x))\n",
    "    return 1/(1+theta)\n",
    "\n",
    "                                                                               \n",
    "     "
   ]
  },
  {
   "cell_type": "code",
   "execution_count": 7,
   "metadata": {},
   "outputs": [],
   "source": [
    "#    对数似然函数\n",
    "def L_omiga(omiga, X, y):\n",
    "    '''\n",
    "    对数似然函数\n",
    "    omiga: 扩充的参数向量(w, b)\n",
    "    X: 扩充的特折矩阵 第i行为(xi, 1)\n",
    "    y: 标枪 yi表示第i个label\n",
    "    \n",
    "    return: 返回对数似然函数的值\n",
    "    '''\n",
    "    re = 0\n",
    "    for i in range(X.shape[0]):\n",
    "        theta = omiga.dot(X[i])\n",
    "        re += ((y[i]*theta) - np.log(1 + np.exp(theta)))\n",
    "    return re\n",
    "\n",
    "\n"
   ]
  },
  {
   "cell_type": "code",
   "execution_count": 8,
   "metadata": {},
   "outputs": [],
   "source": [
    "def gradient_L_omiga(omiga, X, y):\n",
    "    '''\n",
    "    对数似然函数的梯度\n",
    "    omiga: 扩充的参数向量(w, b)\n",
    "    X: 扩充的特折矩阵 第i行为(xi, 1)\n",
    "    y: 标枪 yi表示第i个label\n",
    "    \n",
    "    return: 返回对数似然函数的的梯度\n",
    "    '''\n",
    "    re = [0]*omiga.shape[1]\n",
    "    for i in range(X.shape[0]):\n",
    "        theta = omiga.dot(X[i])\n",
    "        re += y[i]*X[i] - (X[i]*np.exp(omiga.dot(X[i])))/(1 + np.exp(omiga.dot(X[i])))\n",
    "        \n",
    "    return re"
   ]
  },
  {
   "cell_type": "markdown",
   "metadata": {},
   "source": [
    "#### 梯度下降法"
   ]
  },
  {
   "cell_type": "code",
   "execution_count": 9,
   "metadata": {},
   "outputs": [],
   "source": [
    "#    要求对数似然函数的极大值，因此，按照梯度方向更新即可\n",
    "#    因为梯度方向时函数上升最快的方向\n",
    "#    梯度下降法\n",
    "def gradient_descent(omiga, X, y, kexin, a):\n",
    "    '''\n",
    "    梯度下降法\n",
    "    omiga: 扩充的参数向量\n",
    "    X: 扩充的特征矩阵吧\n",
    "    y: label\n",
    "    kexin: 计算精度\n",
    "    a: 步长\n",
    "    return : 另目标函数最大的参数向量omiga\n",
    "    '''\n",
    "    while True:\n",
    "        \n",
    "        fk0 = L_omiga(omiga, X, y)\n",
    "        #    求梯度\n",
    "        gk = gradient_L_omiga(omiga, X, y)\n",
    "\n",
    "        if np.linalg.norm(gk) < kexin :\n",
    "            return omiga\n",
    "        #    更新搜索方向，因为为梯度上升 所以同梯度的方向\n",
    "        pk = gk\n",
    "        #    更新omiga\n",
    "        omiga += a*pk\n",
    "        fk1 = L_omiga(omiga, X, y)\n",
    "        if np.linalg.norm(fk1-fk0) < kexin or np.linalg.norm(omiga-gk) < kexin:\n",
    "            return omiga   "
   ]
  },
  {
   "cell_type": "code",
   "execution_count": 10,
   "metadata": {},
   "outputs": [
    {
     "data": {
      "text/plain": [
       "array([[-0.18169974, -0.72017944,  1.1221241 ,  0.46584384, -0.12220339]])"
      ]
     },
     "execution_count": 10,
     "metadata": {},
     "output_type": "execute_result"
    }
   ],
   "source": [
    "omiga = np.zeros((1, X_train.shape[1]))        \n",
    "omiga = gradient_descent(omiga, X_train, y_train, 0.1, 0.001)\n",
    "omiga"
   ]
  },
  {
   "cell_type": "markdown",
   "metadata": {},
   "source": [
    "#### 交叉验证 "
   ]
  },
  {
   "cell_type": "code",
   "execution_count": 11,
   "metadata": {},
   "outputs": [
    {
     "name": "stdout",
     "output_type": "stream",
     "text": [
      "交叉验证正确率:  1.0\n"
     ]
    }
   ],
   "source": [
    "predict = []\n",
    "for i in range(len(X_test)):\n",
    "    \n",
    "    predict.append(1 if y_is_1(omiga, X_test[i]) > y_is_0(omiga, X_test[i]) else 0)\n",
    "correct = [1 if i==j else 0 for (i,j) in zip(predict, y_test)]\n",
    "print('交叉验证正确率: ', correct.count(1)/len(correct))"
   ]
  },
  {
   "cell_type": "code",
   "execution_count": null,
   "metadata": {},
   "outputs": [],
   "source": []
  }
 ],
 "metadata": {
  "kernelspec": {
   "display_name": "Python 3",
   "language": "python",
   "name": "python3"
  },
  "language_info": {
   "codemirror_mode": {
    "name": "ipython",
    "version": 3
   },
   "file_extension": ".py",
   "mimetype": "text/x-python",
   "name": "python",
   "nbconvert_exporter": "python",
   "pygments_lexer": "ipython3",
   "version": "3.7.3"
  }
 },
 "nbformat": 4,
 "nbformat_minor": 2
}
