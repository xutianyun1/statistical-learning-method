{
 "cells": [
  {
   "cell_type": "markdown",
   "metadata": {},
   "source": [
    "### 非线性支持向量机\n",
    "**高斯核函数**\n",
    "**smo算法**"
   ]
  },
  {
   "cell_type": "code",
   "execution_count": 2,
   "metadata": {},
   "outputs": [],
   "source": [
    "import numpy as np\n",
    "import pandas as pd\n",
    "\n",
    "from sklearn.model_selection import train_test_split\n",
    "\n",
    "#    导入sklearn自带的数据集\n",
    "from sklearn.datasets import load_iris\n"
   ]
  },
  {
   "cell_type": "code",
   "execution_count": 4,
   "metadata": {},
   "outputs": [],
   "source": [
    "iris = load_iris()\n",
    "#    转为DataFrame\n",
    "irisData = pd.DataFrame(iris.data, columns=iris.feature_names)\n",
    "irisData['Label'] = iris.target\n",
    "\n",
    "#    只用两个分类，因此将Label=2的删除\n",
    "irisData = irisData[irisData['Label'] < 2]\n",
    "#    将数据转为矩阵形式，并区分feature和label\n",
    "X = np.array(irisData.iloc[:,:-1])\n",
    "y = np.array(irisData['Label'])\n",
    "#    感知机模型的输入label应为 -1 ，1\n",
    "y[y==0] = -1\n",
    "\n",
    "X_train,X_test, y_train, y_test = train_test_split(X,y,test_size=0.4, random_state=5)\n",
    "\n",
    "\n",
    "#cancer = load_breast_cancer()\n",
    "#X = cancer.data\n",
    "#y = cancer.target\n",
    "#\n",
    "##label集合应为 -1 ， 1\n",
    "#y[y==0] = -1\n",
    "##    分割为训练集、测试集\n",
    "#X_train, X_test, y_train, y_test = train_test_split(X, y, test_size=0.4, random_state=5)"
   ]
  },
  {
   "cell_type": "markdown",
   "metadata": {},
   "source": [
    "高斯核函数"
   ]
  },
  {
   "cell_type": "code",
   "execution_count": 31,
   "metadata": {},
   "outputs": [],
   "source": [
    "def gaussian_kernel(x, z):\n",
    "    '''\n",
    "    高斯核函数\n",
    "    '''\n",
    "    return sum([x[k] * z[k] for k in range(len(x))])"
   ]
  },
  {
   "cell_type": "markdown",
   "metadata": {},
   "source": [
    "序列最小最优化(SMO)算法"
   ]
  },
  {
   "cell_type": "code",
   "execution_count": 32,
   "metadata": {},
   "outputs": [],
   "source": [
    "def SMO(X_train, y_train, kexin):\n",
    "    '''\n",
    "    序列最小最优化算法\n",
    "    X_train, y_train: 训练数据集\n",
    "    kexin: 精度\n",
    "    '''\n",
    "    pass\n",
    "    "
   ]
  },
  {
   "cell_type": "code",
   "execution_count": 38,
   "metadata": {},
   "outputs": [],
   "source": [
    "b = 0\n",
    "C = 1\n",
    "\n",
    "#    初始化α\n",
    "alpha = np.zeros(len(X_train))\n",
    "N = len(X_train)\n",
    "def gx(xi):\n",
    "    \n",
    "    temp = 0\n",
    "    for j in range(N):\n",
    "        temp += alpha[j]*y[j]*gaussian_kernel(xi, X_train[j])\n",
    "    return temp + b\n",
    "\n",
    "        "
   ]
  },
  {
   "cell_type": "code",
   "execution_count": 39,
   "metadata": {},
   "outputs": [],
   "source": [
    "Ei = []\n",
    "\n",
    "for i in range(N):\n",
    "    \n",
    "    ei = gx(X_train[i]) - y_train[i]\n",
    "    Ei.append(ei)"
   ]
  },
  {
   "cell_type": "code",
   "execution_count": 40,
   "metadata": {},
   "outputs": [],
   "source": [
    "def KKT(alpha_i):\n",
    "    '''\n",
    "    检验训练样本点(xi,yi)是否满足KKT条件\n",
    "    '''\n",
    "    y_g = y_train[alpha_i[1]]*gx(X_train[alpha_i[1]])\n",
    "    if alpha_i[0] == 0:\n",
    "        return y_g >= 1 \n",
    "    elif alpha_i[0] > 0 and alpha_i[0] < C:\n",
    "        return y_g == 1\n",
    "    elif alpha_i[0] == C:\n",
    "        return y_g <= 1 \n",
    "        "
   ]
  },
  {
   "cell_type": "code",
   "execution_count": 43,
   "metadata": {},
   "outputs": [],
   "source": [
    "def optimization(alpha1, alpha2):\n",
    "    \n",
    "    #    最优化\n",
    "    if y_train[alpha2[1]] != y_train[alpha1[1]]:\n",
    "        L = max(0, alpha2[0] - alpha1[0])\n",
    "        H = min(C, C + alpha2[0] - alpha1[0])\n",
    "    else:\n",
    "        L = max(0, alpha2[0] + alpha1[0] - C)\n",
    "        H = min(C, alpha2[0] + alpha1[0])\n",
    "    \n",
    "    \n",
    "    alpha2_unc = alpha2\n",
    "    yita = gaussian_kernel(X_train[alpha1[1]], X_train[alpha1[1]]) +gaussian_kernel(X_train[alpha2[1]], X_train[alpha2[1]]) - 2*gaussian_kernel(X_train[alpha1[1]], X_train[alpha2[1]])\n",
    "    alpha2_unc[0] = alpha2[0] + (y_train[alpha2[1]]*(E1-E2)/yita)\n",
    "    alpha2_new = alpha2_unc\n",
    "    if alpha2_unc[0] > H:\n",
    "        alpha2_new[0] = H\n",
    "    elif alpha2_unc[0] < L:\n",
    "        alpha2_new[0] = L\n",
    "    alpha1_new = alpha1\n",
    "    alpha1_new[0] = alpha1[0] + y_train[alpha1[1]]*y_train[alpha2[1]]*(alpha2_new[0] - alpha2[0])\n",
    "    #    更新α\n",
    "    alpha[alpha1_new[1]] = alpha1_new[0]\n",
    "    alpha[alpha2_new[1]] = alpha2_new[0]       \n",
    "   \n",
    "    return alpha1_new, alpha2_new"
   ]
  },
  {
   "cell_type": "code",
   "execution_count": 44,
   "metadata": {},
   "outputs": [
    {
     "name": "stdout",
     "output_type": "stream",
     "text": [
      "-15.688486265341908\n",
      "-15.688486265341908\n",
      "-15.688486265341908\n",
      "-15.688486265341908\n",
      "-15.688486265341908\n",
      "-15.688486265341908\n",
      "-15.688486265341908\n",
      "-15.688486265341908\n",
      "-15.688486265341908\n",
      "-15.688486265341908\n",
      "-15.688486265341908\n",
      "-15.688486265341908\n",
      "-15.688486265341908\n",
      "-15.688486265341908\n",
      "-15.688486265341908\n",
      "-15.688486265341908\n",
      "-15.688486265341908\n",
      "-15.688486265341908\n",
      "-15.688486265341908\n",
      "-15.688486265341908\n",
      "-15.688486265341908\n",
      "-15.688486265341908\n",
      "-15.688486265341908\n",
      "-15.688486265341908\n",
      "-15.688486265341908\n",
      "-15.688486265341908\n",
      "-15.688486265341908\n",
      "-15.688486265341908\n",
      "-15.688486265341908\n",
      "-15.688486265341908\n",
      "-15.688486265341908\n",
      "-15.688486265341908\n",
      "-15.688486265341908\n",
      "-15.688486265341908\n",
      "-15.688486265341908\n",
      "-15.688486265341908\n",
      "-15.688486265341908\n",
      "-15.688486265341908\n",
      "-15.688486265341908\n",
      "-15.688486265341908\n",
      "-15.688486265341908\n",
      "-15.688486265341908\n",
      "-15.688486265341908\n",
      "-15.688486265341908\n",
      "-15.688486265341908\n",
      "-15.688486265341908\n",
      "-15.688486265341908\n",
      "-15.688486265341908\n",
      "-15.688486265341908\n",
      "-15.688486265341908\n"
     ]
    },
    {
     "data": {
      "text/plain": [
       "array([0.        , 0.        , 0.11689071, 0.        , 0.        ,\n",
       "       0.        , 0.        , 0.        , 0.        , 0.        ,\n",
       "       0.11689071, 0.        , 0.        , 0.        , 0.        ,\n",
       "       0.        , 0.        , 0.        , 0.        , 0.        ,\n",
       "       0.        , 0.        , 0.        , 0.        , 0.        ,\n",
       "       0.        , 0.        , 0.        , 0.        , 0.        ,\n",
       "       0.        , 0.        , 0.        , 0.        , 0.        ,\n",
       "       0.        , 0.        , 0.        , 0.        , 0.        ,\n",
       "       0.        , 0.        , 0.        , 0.        , 0.        ,\n",
       "       0.        , 0.        , 0.        , 0.        , 0.        ,\n",
       "       0.        , 0.        , 0.        , 0.        , 0.        ,\n",
       "       0.        , 0.        , 0.        , 0.        , 0.        ])"
      ]
     },
     "execution_count": 44,
     "metadata": {},
     "output_type": "execute_result"
    }
   ],
   "source": [
    "\n",
    "iter = 200\n",
    "while iter != 150:\n",
    "    iter -= 1\n",
    "    #    选择待优化的两个变量\n",
    "            \n",
    "    #    首先在支持向量中寻找不满足KKT条件的样本点\n",
    "    alpha1_init = [i for i in range(N) if 0<alpha[i]<C]\n",
    "    #    若没有，则遍历整个训练数据集\n",
    "    alpha1_init_notsv = [i for i in range(N) if i not in alpha1_init]\n",
    "    alpha1_init.extend(alpha1_init_notsv)\n",
    "    \n",
    "    Ei_min = [float('inf'), -1]\n",
    "    Ei_max = [float('-inf'), -1]\n",
    "    for i in range(N):\n",
    "        ei = Ei[i]\n",
    "        if ei < Ei_min[0]:\n",
    "            Ei_min = [ei, i]\n",
    "        if ei > Ei_max[0]:\n",
    "            Ei_max = [ei, i]\n",
    "   \n",
    "    for i in range(len(alpha1_init)):\n",
    "        alpha1 = [alpha[alpha1_init[i]], alpha1_init[i]]\n",
    "        if not KKT(alpha1):\n",
    "            E1 = Ei[alpha1[1]]\n",
    "            #    第二个变量的选择\n",
    "            if E1 < 0:\n",
    "                alpha2 = Ei_max\n",
    "            else:\n",
    "                alpha2 = Ei_min\n",
    "            E2 = alpha2[0]\n",
    "            alpha2[0] = alpha[alpha2[1]]\n",
    "            #    最优化\n",
    "            alpha1_new, alpha2_new = optimization(alpha1, alpha2)\n",
    "            #    更新b\n",
    "            b = -E1 - y_train[alpha1[1]]*gaussian_kernel(X_train[alpha1[1]], X_train[alpha1[1]])*(alpha1_new[0] - alpha1[0]) - y_train[alpha2[1]]*gaussian_kernel(X_train[alpha2[1]], X_train[alpha1[1]])*(alpha2_new[0] - alpha2[0]) + b\n",
    "            #    更新Ei\n",
    "            Ei_new = [0]*N\n",
    "            for j in range(N):\n",
    "                for k in range(len(alpha1_init)):\n",
    "                    Ei_new[j] += y_train[alpha1_init[k]]*alpha[alpha1_init[k]]*gaussian_kernel(X_train[j], X_train[alpha1_init[k]])\n",
    "            \n",
    "                Ei_new[j] = Ei_new[j] + b - y_train[j]\n",
    "                \n",
    "            Ei = Ei_new\n",
    "            print(b)\n",
    "            break\n",
    "\n",
    "alpha"
   ]
  },
  {
   "cell_type": "code",
   "execution_count": null,
   "metadata": {},
   "outputs": [],
   "source": [
    "          "
   ]
  },
  {
   "cell_type": "code",
   "execution_count": null,
   "metadata": {},
   "outputs": [],
   "source": []
  },
  {
   "cell_type": "code",
   "execution_count": null,
   "metadata": {},
   "outputs": [],
   "source": []
  }
 ],
 "metadata": {
  "kernelspec": {
   "display_name": "Python [conda env:ML_DataContest]",
   "language": "python",
   "name": "conda-env-ML_DataContest-py"
  },
  "language_info": {
   "codemirror_mode": {
    "name": "ipython",
    "version": 3
   },
   "file_extension": ".py",
   "mimetype": "text/x-python",
   "name": "python",
   "nbconvert_exporter": "python",
   "pygments_lexer": "ipython3",
   "version": "3.6.9"
  }
 },
 "nbformat": 4,
 "nbformat_minor": 2
}
